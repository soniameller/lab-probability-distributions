{
 "cells": [
  {
   "cell_type": "markdown",
   "metadata": {},
   "source": [
    "# Before your start:\n",
    "\n",
    "    Read the README.md file\n",
    "    Comment as much as you can and use the resources (README.md file)\n",
    "    Happy learning!\n",
    "\n",
    "*Notes:* \n",
    "\n",
    "- Solve the questions with python.\n",
    "\n",
    "- Round the final answer to three decimal places."
   ]
  },
  {
   "cell_type": "code",
   "execution_count": 3,
   "metadata": {},
   "outputs": [],
   "source": [
    "import matplotlib.pyplot as plt\n",
    "from scipy.stats import bernoulli\n",
    "from scipy.stats import binom\n",
    "import seaborn as sns\n",
    "import numpy as np"
   ]
  },
  {
   "cell_type": "markdown",
   "metadata": {},
   "source": [
    "## Bernoulli's Distribution\n",
    "\n",
    "In a basket containing 100 fruits, there are 60 apples and 40 oranges. \n",
    "\n",
    "A fruit is picked randomly from the basket. \n",
    "\n",
    "1. **What is the probability that the fruit is apple?**\n",
    "1. **What is the probability that it is an orange?**"
   ]
  },
  {
   "cell_type": "code",
   "execution_count": 4,
   "metadata": {},
   "outputs": [],
   "source": [
    "\"\"\"\n",
    "Calculate:\n",
    "p = probability that the fruit is an apple \n",
    "q = probability that the fruit is an orange\n",
    "\"\"\"\n",
    "p = 0.6\n",
    "q = 0.4"
   ]
  },
  {
   "cell_type": "markdown",
   "metadata": {},
   "source": [
    "Now we take a random sample of 20 fruits from the basket. After each fruit is taken, a new fruit of the same type is replaced in the basket. Therefore, every time we are taking 1 fruit from 100 fruits. \n",
    "\n",
    "1. **What is the probability that the first 5 fruits are all apples?**\n",
    "\n",
    "1. **What is the probability that the first 5 fruits are all apples and the next 15 fruits are all oranges?**\n",
    "\n",
    "You can include the `p` and `q` probabilities you previous calculated in your solution."
   ]
  },
  {
   "cell_type": "code",
   "execution_count": 5,
   "metadata": {},
   "outputs": [
    {
     "name": "stdout",
     "output_type": "stream",
     "text": [
      "1)  7.78 %\n",
      "2)  0.0 %\n"
     ]
    }
   ],
   "source": [
    "# 1) P(A) * P(A) * P(A) * P(A) * P(A) \n",
    "# 2) P(A)^5 * P(O)^15 \n",
    "\n",
    "print('1) ',round(p**5 *100,2),'%')\n",
    "print('2) ',round(p**5 * q**15 *100,2),'%')"
   ]
  },
  {
   "cell_type": "markdown",
   "metadata": {},
   "source": [
    "## Binomial Distribution\n",
    "\n",
    "Similar to the above problem, this time again we randomly sample 20 fruits.\n",
    "\n",
    "**What is the probability that this time the sample contains 5 apples and 15 oranges?**\n",
    "\n",
    "Please note that this time the order of the fruits being picked does not matter."
   ]
  },
  {
   "cell_type": "code",
   "execution_count": 6,
   "metadata": {},
   "outputs": [
    {
     "name": "stdout",
     "output_type": "stream",
     "text": [
      "0.0012944935222876511\n"
     ]
    }
   ],
   "source": [
    "'''\n",
    "Probability of getting 5 apples:\n",
    "P(x = 5)\n",
    "\n",
    "Binomial, out of 20 trials with 0.6 probability\n",
    "x ~ B(20,0.6) \n",
    "'''\n",
    "n= 20\n",
    "p= 0.6\n",
    "x= 5\n",
    "\n",
    "binomial = binom(n,p)\n",
    "\n",
    "# probability that x = 5\n",
    "print(binomial.pmf(x))"
   ]
  },
  {
   "cell_type": "markdown",
   "metadata": {},
   "source": [
    "In the lesson we also discussed CDF (cumulative distribution function). In the context of the above problem, **what is the probability that less than 5 fruits picked are apples?**\n",
    "\n",
    "Write the formula and calculate the probability below."
   ]
  },
  {
   "cell_type": "code",
   "execution_count": 7,
   "metadata": {},
   "outputs": [
    {
     "name": "stdout",
     "output_type": "stream",
     "text": [
      "0.0003170311211686301\n"
     ]
    }
   ],
   "source": [
    "# probability that x < 5\n",
    "print(binomial.cdf(4))"
   ]
  },
  {
   "cell_type": "markdown",
   "metadata": {},
   "source": [
    "**Plot the PDF (probability distributiom function) for the above binomial distribution.**\n",
    "\n",
    "*Hint: The range of x in a binomial distribution is from `0` to `n`.*"
   ]
  },
  {
   "cell_type": "code",
   "execution_count": 8,
   "metadata": {},
   "outputs": [
    {
     "data": {
      "image/png": "[encoded data removed]",
      "text/plain": [
       "<Figure size 432x288 with 1 Axes>"
      ]
     },
     "metadata": {
      "needs_background": "light"
     },
     "output_type": "display_data"
    },
    {
     "data": {
      "image/png": "[encoded data removed]",
      "text/plain": [
       "<Figure size 432x288 with 1 Axes>"
      ]
     },
     "metadata": {
      "needs_background": "light"
     },
     "output_type": "display_data"
    },
    {
     "data": {
      "image/png": "[encoded data removed]",
      "text/plain": [
       "<Figure size 432x288 with 1 Axes>"
      ]
     },
     "metadata": {
      "needs_background": "light"
     },
     "output_type": "display_data"
    }
   ],
   "source": [
    "# EXAMPLE IN CLASS\n",
    "# QUES-Is this the probability of each case? WIthout randomness?\n",
    "# QUES-In the class we were doing prob of each case from 0 to 10. Why do I have a lot of values here?\n",
    "x = np.arange(0,n+1, dtype=\"int\") #QUES-What's this +1 doing here?\n",
    "plt.plot(x, binom.pmf(x, n, p), 'bo')\n",
    "plt.vlines(x, 0, binom.pmf(x, n, p), colors='blue', lw=5, alpha=0.6)\n",
    "plt.show()\n",
    "\n",
    "# MY SOLUTION\n",
    "# QUES-And is it this taking random samples from binomial distribution??\n",
    "my_solution = np.random.binomial(n, p, 10000) #QUES-If I make this last number smaller I get less bars. Why?\n",
    "\n",
    "ax = sns.distplot(my_solution,\n",
    "                  kde=False,\n",
    "                  color='blue',\n",
    "                  hist_kws={\"linewidth\":0.1,'alpha':0.6})\n",
    "ax.set(xlabel='Apple Binomial Distribution', ylabel='Frequency')\n",
    "plt.show()\n",
    "\n",
    "# ANOTHER SOLUTION ONLINE- QUES-What's the difference between the 3?\n",
    "data_binom = binom.rvs(n=n,p=p,size=10000)\n",
    "ax = sns.distplot(data_binom,\n",
    "                  kde=False,\n",
    "                  color='blue',\n",
    "                  hist_kws={\"linewidth\":0.1,'alpha':0.6})\n",
    "ax.set(xlabel='Apple Binomial Distribution', ylabel='Frequency')\n",
    "plt.show()\n"
   ]
  },
  {
   "cell_type": "markdown",
   "metadata": {},
   "source": [
    "## Poisson Distribution\n",
    "\n",
    "In this challenge you are required to use the Math library in python to solve the problems.\n",
    "\n",
    "In the UEFA champions league tournament, the average number of goals scored in a match is 2.3. \n",
    "\n",
    "**What is the probability that the number of goals scored in a match is 5?**\n",
    "\n",
    "*Hint: Use the exp() in the math library*\n",
    "\n",
    "And to calculate the factorial, you can use the following code:\n",
    "\n",
    "```python\n",
    "import math\n",
    "math.factorial(n) # n is the number you want to find the factorial of\n",
    "```"
   ]
  },
  {
   "cell_type": "code",
   "execution_count": 40,
   "metadata": {},
   "outputs": [
    {
     "name": "stdout",
     "output_type": "stream",
     "text": [
      "Probability of 5 goals in a match: 0.0537750255819468\n"
     ]
    }
   ],
   "source": [
    "import math\n",
    "from scipy.stats import poisson\n",
    "'''\n",
    "QUES- I don't get the difference between my result using this formula and the online calculator\n",
    "which gives the following result: Poisson Probability: P(X = 5)\t0.06680\n",
    "https://stattrek.com/online-calculator/poisson.aspx\n",
    "'''\n",
    "mu = 2.3\n",
    "x = 5\n",
    "\n",
    "poisson_prob = math.exp(-mu)*mu**x/math.factorial(x)\n",
    "\n",
    "print(\"Probability of 5 goals in a match:\", poisson_prob)\n",
    "# QUES - Is there a way of doing this with any python library?"
   ]
  },
  {
   "cell_type": "code",
   "execution_count": 44,
   "metadata": {},
   "outputs": [
    {
     "name": "stdout",
     "output_type": "stream",
     "text": [
      "Probability of 5 goals in a match: 0.053775025581946814\n"
     ]
    }
   ],
   "source": [
    "# Option 2 - with python library\n",
    "\n",
    "poisson_prob = poisson.pmf(x, mu)\n",
    "print(\"Probability of 5 goals in a match:\",poisson_prob)"
   ]
  },
  {
   "cell_type": "markdown",
   "metadata": {},
   "source": [
    "**Draw a poisson probability distribution plot for the number of goals to be between 0 to 10.**"
   ]
  },
  {
   "cell_type": "code",
   "execution_count": 74,
   "metadata": {},
   "outputs": [
    {
     "data": {
      "image/png": "[encoded data removed]",
      "text/plain": [
       "<Figure size 432x288 with 1 Axes>"
      ]
     },
     "metadata": {
      "needs_background": "light"
     },
     "output_type": "display_data"
    }
   ],
   "source": [
    "# OPTION 1 - With regular math\n",
    "x = np.arange(0, 10+1, 1)\n",
    "poisson_prob = np.exp(-mu)*np.power(mu, t)/factorial(t)\n",
    "\n",
    "\n",
    "plt.plot(x, d, 'ro')\n",
    "plt.vlines(x, 0, d, colors='r', lw=5, alpha=0.5)\n",
    "plt.xlabel('x')\n",
    "plt.title('Poisson Probability - pmf')\n",
    "plt.ylabel('Probability')\n",
    "plt.show()"
   ]
  },
  {
   "cell_type": "code",
   "execution_count": 75,
   "metadata": {},
   "outputs": [
    {
     "data": {
      "image/png": "[encoded data removed]",
      "text/plain": [
       "<Figure size 432x288 with 1 Axes>"
      ]
     },
     "metadata": {
      "needs_background": "light"
     },
     "output_type": "display_data"
    }
   ],
   "source": [
    "# OPTION 2 - Class example\n",
    "\n",
    "# QUES - Why where we using the following line in the example? I guess the example is from here too but I don't undestand it\n",
    "# https://docs.scipy.org/doc/scipy/reference/generated/scipy.stats.poisson.html\n",
    "mean, var, skew, kurt = poisson.stats(mu, moments='mvsk')\n",
    "\n",
    "# Dont get what is going on in the following line\n",
    "x = np.arange(poisson.ppf(0.00001, mu), poisson.ppf(0.9999, mu)+1)\n",
    "\n",
    "plt.plot(x, poisson.pmf(x, mu), 'bo', ms=8, label='poisson pmf')\n",
    "plt.title('Poisson Probability - pmf')\n",
    "plt.vlines(x, 0, poisson.pmf(x, mu), colors='b', lw=5, alpha=0.5)\n",
    "plt.show()"
   ]
  },
  {
   "cell_type": "code",
   "execution_count": 76,
   "metadata": {},
   "outputs": [
    {
     "name": "stdout",
     "output_type": "stream",
     "text": [
      "0.0\n",
      "10.0\n",
      "(array(2.3), array(2.3), array(0.65938047), array(0.43478261))\n"
     ]
    }
   ],
   "source": [
    "# QUES- Here all the values I dont undestand 😢\n",
    "print(poisson.ppf(0.00001, mu))\n",
    "print(poisson.ppf(0.9999, mu))\n",
    "\n",
    "print(poisson.stats(mu, moments='mvsk'))"
   ]
  },
  {
   "cell_type": "code",
   "execution_count": null,
   "metadata": {},
   "outputs": [],
   "source": []
  }
 ],
 "metadata": {
  "kernelspec": {
   "display_name": "Python 3",
   "language": "python",
   "name": "python3"
  },
  "language_info": {
   "codemirror_mode": {
    "name": "ipython",
    "version": 3
   },
   "file_extension": ".py",
   "mimetype": "text/x-python",
   "name": "python",
   "nbconvert_exporter": "python",
   "pygments_lexer": "ipython3",
   "version": "3.7.6"
  }
 },
 "nbformat": 4,
 "nbformat_minor": 2
}
